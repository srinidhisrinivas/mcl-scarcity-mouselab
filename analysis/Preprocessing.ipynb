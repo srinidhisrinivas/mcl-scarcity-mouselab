{
 "cells": [
  {
   "cell_type": "code",
   "execution_count": null,
   "id": "41993004",
   "metadata": {},
   "outputs": [],
   "source": [
    "import json\n",
    "import datetime\n",
    "import pandas as pd\n",
    "import numpy as np\n",
    "import matplotlib.pyplot as plt\n",
    "import os\n",
    "import statsmodels\n",
    "import csv\n",
    "import pickle"
   ]
  },
  {
   "cell_type": "markdown",
   "id": "83b2d095",
   "metadata": {},
   "source": [
    "# Processing Data from PostGRES Output"
   ]
  },
  {
   "cell_type": "markdown",
   "id": "5a3c7ae2",
   "metadata": {},
   "source": [
    "Creating a single JSON file for each participant from PostGRES data that contains a single list of all participant data"
   ]
  },
  {
   "cell_type": "code",
   "execution_count": null,
   "id": "5d7fe000",
   "metadata": {},
   "outputs": [],
   "source": [
    "fileprefix = \"final_3\" # pilot_[1,2,4]\n",
    "filepath = '../results/{}_results_anonymized.json'.format(fileprefix)\n"
   ]
  },
  {
   "cell_type": "code",
   "execution_count": null,
   "id": "93c09443",
   "metadata": {},
   "outputs": [],
   "source": [
    "with open(filepath, 'r') as f:\n",
    "    all_data = json.load(f)"
   ]
  },
  {
   "cell_type": "code",
   "execution_count": null,
   "id": "11571ab6",
   "metadata": {},
   "outputs": [],
   "source": [
    "part_data = {}\n",
    "\n",
    "count = 0\n",
    "for participant in all_data['values']:\n",
    "    count+=1\n",
    "    print(count, participant[2])\n",
    "    try:\n",
    "        part_object = json.loads(participant[17])\n",
    "        part_object[\"Beginhit\"] = participant[11]\n",
    "        part_object[\"Beginexp\"] = participant[12]\n",
    "        part_object[\"Endhit\"] = participant[13]\n",
    "        part_object[\"psiturkStatus\"] = participant[15]\n",
    "        part_object[\"browser\"] = participant[5]\n",
    "        part_object[\"platform\"] = participant[6]\n",
    "        part_object[\"language\"] = participant[7]\n",
    "        \n",
    "        if part_object[\"workerId\"].startswith(\"debug\"):\n",
    "            continue\n",
    "\n",
    "        part_data[part_object[\"workerId\"]] = part_object\n",
    "        with open('../results/anonymized_data/{}_{}.json'.format(fileprefix, part_object['workerId']), 'w') as fw:\n",
    "            json.dump(part_object, fw)\n",
    "    except:\n",
    "        print(\"Fail\")\n",
    "        continue;"
   ]
  },
  {
   "cell_type": "code",
   "execution_count": null,
   "id": "e40d4f7b",
   "metadata": {},
   "outputs": [],
   "source": [
    "part_data.keys()\n"
   ]
  },
  {
   "cell_type": "markdown",
   "id": "22466150",
   "metadata": {},
   "source": [
    "# Reading Data from Already Created Participant Data Files"
   ]
  },
  {
   "cell_type": "code",
   "execution_count": null,
   "id": "eea00afb",
   "metadata": {},
   "outputs": [],
   "source": [
    "fileprefix = \"final\" # pilot_#, final\n",
    "datafolder = '../results/'\n",
    "\n",
    "all_part_files = [filename for filename in os.listdir(datafolder) if filename.startswith(fileprefix) and 'results' not in filename]\n",
    "all_part_paths = [datafolder + filename for filename in all_part_files]"
   ]
  },
  {
   "cell_type": "code",
   "execution_count": null,
   "id": "52f3d3d5",
   "metadata": {},
   "outputs": [],
   "source": [
    "part_data = {}\n",
    "for file in all_part_paths:\n",
    "    with open(file, 'r') as f:\n",
    "        participant = json.load(f)\n",
    "        part_data[participant[\"workerId\"]] = participant\n",
    "\n"
   ]
  },
  {
   "cell_type": "code",
   "execution_count": null,
   "id": "d62b304c",
   "metadata": {},
   "outputs": [],
   "source": [
    "len(part_data.keys())"
   ]
  },
  {
   "cell_type": "markdown",
   "id": "742a15ba",
   "metadata": {},
   "source": [
    "# End of Pre-Processing\n",
    "\n",
    "The remaining notebook is used to check completeness of data and assign bonuses to participants based on performance "
   ]
  },
  {
   "cell_type": "markdown",
   "id": "496ff701",
   "metadata": {},
   "source": [
    "# Analyzing Trial Data"
   ]
  },
  {
   "cell_type": "markdown",
   "id": "c378a7c8",
   "metadata": {},
   "source": [
    "Create a list of objects, one for each participant's data"
   ]
  },
  {
   "cell_type": "code",
   "execution_count": null,
   "id": "1747e091",
   "metadata": {},
   "outputs": [],
   "source": [
    "part_stats_dicts = []\n",
    "for participant in part_data.values():\n",
    "    try:\n",
    "        beginhit = datetime.datetime.strptime(participant['Beginhit'], '%Y-%m-%d %H:%M:%S.%f')\n",
    "    except TypeError:\n",
    "        beginhit = None\n",
    "    try:\n",
    "        endhit = datetime.datetime.strptime(participant['Endhit'], '%Y-%m-%d %H:%M:%S.%f')\n",
    "    except TypeError:\n",
    "        endhit = None\n",
    "    try:    \n",
    "        beginexp = datetime.datetime.strptime(participant['Beginexp'], '%Y-%m-%d %H:%M:%S.%f')\n",
    "    except TypeError:\n",
    "        beginexp = None\n",
    "    \n",
    "    try:\n",
    "        hitLength = (endhit-beginhit).seconds\n",
    "    except TypeError:\n",
    "        hitLength = None\n",
    "    \n",
    "    try:\n",
    "        expLength = (endhit-beginexp).seconds\n",
    "    except TypeError:\n",
    "        expLength = None\n",
    "        \n",
    "    numPracTrials = 0\n",
    "    trialLengths = []\n",
    "    trialScores = []\n",
    "    rewardsWithheld = []\n",
    "    effort = \"-1\"\n",
    "    age = None\n",
    "    gender = None\n",
    "    colorblind = None\n",
    "    print(participant['workerId'])\n",
    "    try:\n",
    "        firstTrialStamp = participant['data'][0]['dateTime']\n",
    "        lastTrialStamp = participant['data'][-1]['dateTime']\n",
    "    except:\n",
    "        print(\"No data\")\n",
    "        continue\n",
    "    if hitLength is None:\n",
    "        hitLength = (lastTrialStamp - firstTrialStamp) / 1000\n",
    "    if expLength is None:\n",
    "        expLength = (lastTrialStamp - firstTrialStamp) / 1000\n",
    "        \n",
    "    stroop_timestamps = {\n",
    "        \"1\" : {\n",
    "            \"start\" : 0,\n",
    "            \"end\" : 0,\n",
    "            \"done\" : False\n",
    "        },\n",
    "        \"2\" : {\n",
    "            \"start\" : 0,\n",
    "            \"end\" : 0,\n",
    "            \"done\" : False\n",
    "        }\n",
    "    }\n",
    "    mdp_timestamps = {\n",
    "        \"start\" : 0,\n",
    "        \"end\" : 0,\n",
    "        \"done\": False\n",
    "    }\n",
    "    current_state = \"stroop_1\"\n",
    "    stroop1Completed = 0\n",
    "    stroop1Correct = 0\n",
    "    stroop2Completed = 0\n",
    "    stroop2Correct = 0\n",
    "    last_trial = participant['data'][0]\n",
    "    finishHITReached = False\n",
    "    demographicsAvailable = False\n",
    "    feedback = \"\"\n",
    "    alreadyParticipated = \"\"\n",
    "    comments = \"\"\n",
    "    final_quiz_responses = None\n",
    "    for idx, trial in enumerate(participant['data']):\n",
    "        trial_type = trial['trialdata']['trial_type']\n",
    "        try:\n",
    "            trial_id = str(trial['trialdata']['trial_id'])\n",
    "        except KeyError:\n",
    "            trial_id = \"\"\n",
    "        \n",
    "        if participant['workerId'] == \"5eb40f1f0d916d20d9db9144\":\n",
    "            print(\"{}\\t{}\\t{}\".format(trial_type, trial_id, idx))\n",
    "        if trial_id == \"stroop_1_ready_1\" and not stroop_timestamps[\"1\"][\"done\"]:\n",
    "            stroop_timestamps[\"1\"][\"start\"] = trial['dateTime']\n",
    "            \n",
    "        if trial_id == \"stroop_2_ready_1\" and not stroop_timestamps[\"2\"][\"done\"]:\n",
    "            stroop_timestamps[\"2\"][\"start\"] = trial['dateTime']\n",
    "            \n",
    "        if trial_id == \"finish_distractor_1\" and not stroop_timestamps[\"1\"][\"done\"]:\n",
    "            stroop_timestamps[\"1\"][\"end\"] = trial['dateTime']\n",
    "            stroop_timestamps[\"1\"][\"done\"] = True\n",
    "            \n",
    "        if trial_id == \"finish_distractor_2\" and not stroop_timestamps[\"2\"][\"done\"]:\n",
    "            stroop_timestamps[\"2\"][\"end\"] = trial['dateTime']\n",
    "            stroop_timestamps[\"2\"][\"done\"] = True\n",
    "            \n",
    "        if trial_id == \"mouselab_instructions_1\" and not mdp_timestamps[\"done\"]:\n",
    "            mdp_timestamps[\"done\"] = True\n",
    "            mdp_timestamps[\"start\"] = trial['dateTime']\n",
    "        \n",
    "        if trial_id.startswith(\"final_quiz\"):\n",
    "            mdp_timestamps[\"end\"] = trial['dateTime']\n",
    "            \n",
    "        if \"congruent\" in trial_id or \"incongruent\" in trial_id or \"unrelated\" in trial_id:\n",
    "            if not stroop_timestamps[\"1\"][\"done\"]:\n",
    "                stroop1Completed += 1\n",
    "                \n",
    "                if trial['trialdata'][\"response\"].lower() == trial['trialdata'][\"correct_response\"].lower():\n",
    "                    stroop1Correct += 1\n",
    "                \n",
    "            else:\n",
    "                stroop2Completed += 1\n",
    "                if trial['trialdata'][\"response\"].lower() == trial['trialdata'][\"correct_response\"].lower():\n",
    "                    stroop2Correct += 1\n",
    "                    \n",
    "        if trial_type == 'mouselab-mdp':\n",
    "            if trial_id.startswith('practice'):\n",
    "                numPracTrials += 1\n",
    "            else:\n",
    "                trialLengths.append(trial['trialdata']['trialTime'])\n",
    "                \n",
    "                trialScores.append(trial['trialdata']['score'])\n",
    "                rewardsWithheld.append(trial['trialdata']['withholdReward'])\n",
    "        if trial_type == 'survey-html-form':\n",
    "            \n",
    "            if 'effort' in trial['trialdata']['response']:\n",
    "                effort = trial['trialdata']['response']['effort']\n",
    "                age = trial['trialdata']['response']['age']\n",
    "                gender = trial['trialdata']['response']['gender']\n",
    "                colorblind = trial['trialdata']['response']['colorblind']\n",
    "                demographicsAvailable = True\n",
    "        if trial_id.startswith(\"final_quiz\"):\n",
    "            final_quiz_responses = trial['trialdata']['response']\n",
    "        if trial_id.startswith(\"finish_fail\"):\n",
    "            feedback = trial['trialdata']['response']['Q0']\n",
    "            age = trial['trialdata']['response']['Q1']\n",
    "            gender = trial['trialdata']['response']['Q2']\n",
    "            colorblind = trial['trialdata']['response']['Q3']\n",
    "            comments = trial['trialdata']['response']['Q4']\n",
    "            demographicsAvailable = True\n",
    "        elif trial_type == 'survey-text':\n",
    "            feedback = trial['trialdata']['response']['Q0']\n",
    "            alreadyParticipated = trial['trialdata']['response']['Q1']\n",
    "            comments = trial['trialdata']['response']['Q2']\n",
    "        \n",
    "        if trial_type == 'html-button-response':\n",
    "            if \"Finish HIT\" in trial['trialdata']['stimulus']:\n",
    "                finishHITReached = True\n",
    "        last_trial = trial\n",
    "\n",
    "    dropoutPoint = None\n",
    "    for obj, type_ in zip([mdp_timestamps, stroop_timestamps[\"1\"], stroop_timestamps[\"2\"]], [\"mdp\", \"s1\", \"s2\"]):\n",
    "        if obj[\"start\"] > 0 and obj[\"end\"] == 0:\n",
    "            \n",
    "            dropoutPoint = type_\n",
    "            obj[\"end\"] = lastTrialStamp\n",
    "            \n",
    "    if not dropoutPoint:\n",
    "        if len(trialLengths) == 0:\n",
    "            dropoutPoint = \"beginning\"\n",
    "        elif not finishHITReached:\n",
    "            dropoutPoint = \"finishHIT\"\n",
    "            \n",
    "    if dropoutPoint:\n",
    "        print(participant['workerId'], dropoutPoint)\n",
    "    part_stats_dict = {\n",
    "        \"workerId\": participant['workerId'],\n",
    "        \"Beginhit\": beginhit,\n",
    "        \"Endhit\": endhit,\n",
    "        \"Beginexp\": beginexp,\n",
    "        \"psiturkStatus\" : participant[\"psiturkStatus\"],\n",
    "        \"browser\" : participant[\"browser\"],\n",
    "        \"platform\" : participant[\"platform\"],\n",
    "        \"language\" : participant[\"language\"],\n",
    "        \"hitLength\": hitLength,\n",
    "        \"expLength\": expLength,\n",
    "        \"totalLengthSum\": (lastTrialStamp - firstTrialStamp) / 1000,\n",
    "        \"numQuizAttempts\": numPracTrials / 2,\n",
    "        \"trialLengths\": trialLengths,\n",
    "        \"trialScores\" : trialScores,\n",
    "        \"numTrialsCompleted\": len(trialLengths),\n",
    "        \"rewardsWithheld\": rewardsWithheld,\n",
    "        \"effort\": effort,\n",
    "        \"age\":age,\n",
    "        \"colorblind\":colorblind,\n",
    "        \"gender\":gender,\n",
    "        \"condition\": participant['condition'],\n",
    "        \"stroop1Length\" : (stroop_timestamps[\"1\"][\"end\"] - stroop_timestamps[\"1\"][\"start\"]) / 1000,\n",
    "        \"stroop2Length\" : (stroop_timestamps[\"2\"][\"end\"] - stroop_timestamps[\"2\"][\"start\"]) / 1000,\n",
    "        \"mouselabLength\" : (mdp_timestamps[\"end\"] - mdp_timestamps[\"start\"]) / 1000,\n",
    "        \"stroop1Completed\" : stroop1Completed,\n",
    "        \"stroop2Completed\" : stroop2Completed,\n",
    "        \"stroop1Correct\" : stroop1Correct,\n",
    "        \"stroop2Correct\" : stroop2Correct,\n",
    "        \"dropoutPoint\" : dropoutPoint,\n",
    "        \"feedback\": feedback,\n",
    "        \"alreadyParticipated\": alreadyParticipated,\n",
    "        \"comments\": comments,\n",
    "        \"finishHITReached\": finishHITReached,\n",
    "        \"demographicsAvailable\": demographicsAvailable,\n",
    "        \"final_quiz_responses\": final_quiz_responses\n",
    "    }\n",
    "    if 'questiondata' in participant and 'final_score' in participant['questiondata']:\n",
    "        part_stats_dict['finalScore'] = participant['questiondata']['final_score']\n",
    "    else:\n",
    "        part_stats_dict['finalScore'] = sum([score for (score, withheld) in zip(trialScores, rewardsWithheld) if not withheld])\n",
    "    \n",
    "    part_stats_dict[\"expLengthSum\"] = part_stats_dict[\"stroop1Length\"] + part_stats_dict[\"mouselabLength\"] + part_stats_dict[\"stroop2Length\"]\n",
    "    part_stats_dict[\"expLengthDiff\"] = part_stats_dict[\"expLengthSum\"] - part_stats_dict[\"expLength\"]\n",
    "    if len(trialLengths) > 0:\n",
    "        part_stats_dict[\"averageTrialLength\"] = sum(trialLengths) / len(trialLengths)\n",
    "        part_stats_dict[\"propWithheld\"] = sum(rewardsWithheld) / len(rewardsWithheld)\n",
    "        \n",
    "    part_stats_dicts.append(part_stats_dict)\n",
    "    "
   ]
  },
  {
   "cell_type": "code",
   "execution_count": null,
   "id": "4644070a",
   "metadata": {},
   "outputs": [],
   "source": [
    "stats_df = pd.DataFrame(part_stats_dicts)\n",
    "print(len(stats_df))\n",
    "filter_cols = [\"workerId\", \"Beginhit\", \"hitLength\", \"expLength\", \"condition\", \"stroop1Length\", \"stroop1Completed\", \"stroop1Correct\", \"numQuizAttempts\", \"numTrialsCompleted\", \"mouselabLength\", \"finalScore\", \"propWithheld\", \"stroop2Length\",\"stroop2Completed\", \"stroop2Correct\", \"dropoutPoint\", \"finishHITReached\", \"psiturkStatus\", \"effort\", \"demographicsAvailable\"]\n",
    "stats_df[filter_cols]"
   ]
  },
  {
   "cell_type": "code",
   "execution_count": null,
   "id": "e943ce9b",
   "metadata": {},
   "outputs": [],
   "source": [
    "# Filter those who dropped out immediately\n",
    "\n",
    "immediate_drops = stats_df.loc[(stats_df.dropoutPoint == \"beginning\")]\n",
    "print(len(immediate_drops))\n",
    "immediate_drops"
   ]
  },
  {
   "cell_type": "code",
   "execution_count": null,
   "id": "21f8c344",
   "metadata": {},
   "outputs": [],
   "source": [
    "no_immediate_drops = stats_df.loc[(stats_df.dropoutPoint != \"beginning\")]\n",
    "print(len(no_immediate_drops))\n",
    "no_immediate_drops"
   ]
  },
  {
   "cell_type": "code",
   "execution_count": null,
   "id": "47e43856",
   "metadata": {},
   "outputs": [],
   "source": [
    "# Partial compensation rates\n",
    "\n",
    "gbp_hourly = 6\n",
    "secondly_rate = gbp_hourly / (3600)"
   ]
  },
  {
   "cell_type": "code",
   "execution_count": null,
   "id": "877f3602",
   "metadata": {},
   "outputs": [],
   "source": [
    "# Early quitters - Psiturk status 6 or 2, and no quiz attempts completed\n",
    "\n",
    "early_quitters = no_immediate_drops.loc[(no_immediate_drops.psiturkStatus == 6) & (no_immediate_drops.numQuizAttempts == 0)]\n",
    "early_quitters.loc[:,'bonus'] = (early_quitters['stroop1Length'] + early_quitters['mouselabLength'] + early_quitters['stroop2Length']) * secondly_rate\n",
    "print(len(early_quitters))\n",
    "\n",
    "# Printing bonuses\n",
    "for idx, row in early_quitters.iterrows():\n",
    "    print('{0}, {1:0.2f}'.format(row['workerId'], row['bonus']))\n",
    "    \n",
    "early_quitters"
   ]
  },
  {
   "cell_type": "code",
   "execution_count": null,
   "id": "a79a0d96",
   "metadata": {
    "scrolled": true
   },
   "outputs": [],
   "source": [
    "# Filtering those who failed the quiz more than 4 times\n",
    "\n",
    "failed_quiz = no_immediate_drops.loc[(no_immediate_drops.numQuizAttempts > 0) & (no_immediate_drops.numTrialsCompleted == 0)]\n",
    "failed_quiz.loc[:,'bonus'] = (failed_quiz['stroop1Length'] + failed_quiz['mouselabLength'] + failed_quiz['stroop2Length']) * secondly_rate\n",
    "print(len(failed_quiz))\n",
    "\n",
    "# Printing bonuses\n",
    "for idx, row in failed_quiz.iterrows():\n",
    "    print('{0}, {1:0.2f}'.format(row['workerId'], row['bonus']))\n",
    "failed_quiz"
   ]
  },
  {
   "cell_type": "code",
   "execution_count": null,
   "id": "c951aad2",
   "metadata": {},
   "outputs": [],
   "source": [
    "for idx, row in failed_quiz.iterrows():\n",
    "    print(\"{}\\t{}\".format(row['workerId'], row['condition']))"
   ]
  },
  {
   "cell_type": "code",
   "execution_count": null,
   "id": "fb77cec0",
   "metadata": {
    "scrolled": true
   },
   "outputs": [],
   "source": [
    "eligible = no_immediate_drops.loc[(~no_immediate_drops['workerId'].isin(early_quitters.workerId)) & (~no_immediate_drops['workerId'].isin(failed_quiz.workerId))]\n",
    "print(len(eligible))\n",
    "eligible"
   ]
  },
  {
   "cell_type": "code",
   "execution_count": null,
   "id": "baf9ef66",
   "metadata": {},
   "outputs": [],
   "source": [
    "data_actually_complete = []"
   ]
  },
  {
   "cell_type": "code",
   "execution_count": null,
   "id": "914c688f",
   "metadata": {},
   "outputs": [],
   "source": [
    "incomplete_data = eligible.loc[(eligible.psiturkStatus != 3) & (~eligible.workerId.isin(data_actually_complete))]\n",
    "print(len(incomplete_data))\n",
    "incomplete_data"
   ]
  },
  {
   "cell_type": "code",
   "execution_count": null,
   "id": "09bf4cb6",
   "metadata": {},
   "outputs": [],
   "source": [
    "for idx, row in incomplete_data.iterrows():\n",
    "    print(\"{}\\t{}\".format(row['workerId'], row['condition']))"
   ]
  },
  {
   "cell_type": "code",
   "execution_count": null,
   "id": "07d228de",
   "metadata": {},
   "outputs": [],
   "source": [
    "data_actually_complete = [\"w43636581\", \"w98791412\"]\n",
    "\n",
    "incomplete_full_compensation_eligible = [\"w23913068\"]\n",
    "incomplete_partial_compensation_eligible = [\"w51266225\", \"w81201253\"]\n"
   ]
  },
  {
   "cell_type": "code",
   "execution_count": null,
   "id": "49153e4f",
   "metadata": {},
   "outputs": [],
   "source": [
    "incomplete_partial = eligible.loc[(eligible.workerId.isin(incomplete_partial_compensation_eligible))]\n",
    "incomplete_partial.loc[:,'bonus'] = (incomplete_partial['stroop1Length'] + incomplete_partial['mouselabLength'] + incomplete_partial['stroop2Length']) * secondly_rate\n",
    "print(len(incomplete_partial))\n",
    "\n",
    "# Printing bonuses\n",
    "for idx, row in incomplete_partial.iterrows():\n",
    "    print('{0}, {1:0.2f}'.format(row['workerId'], row['bonus']))\n",
    "incomplete_partial"
   ]
  },
  {
   "cell_type": "code",
   "execution_count": null,
   "id": "8595b33b",
   "metadata": {},
   "outputs": [],
   "source": [
    "# Participant data that is complete\n",
    "\n",
    "complete_data = eligible.loc[(eligible.psiturkStatus == 3) | (eligible.workerId.isin(data_actually_complete))]\n",
    "print(len(complete_data.loc[complete_data.condition == 0]))\n",
    "print(len(complete_data.loc[complete_data.condition == 1]))\n",
    "complete_data"
   ]
  },
  {
   "cell_type": "code",
   "execution_count": null,
   "id": "7dba592c",
   "metadata": {},
   "outputs": [],
   "source": [
    "for idx, row in complete_data.iterrows():\n",
    "    print(\"{}\\t{}\".format(row['workerId'], row['condition']))"
   ]
  },
  {
   "cell_type": "code",
   "execution_count": null,
   "id": "535e0e6c",
   "metadata": {
    "scrolled": true
   },
   "outputs": [],
   "source": [
    "# Participants eligible for full bonus\n",
    "\n",
    "full_bonus_eligible = pd.concat([complete_data, eligible.loc[eligible.workerId.isin(incomplete_full_compensation_eligible)]])\n",
    "\n",
    "print(len(full_bonus_eligible))\n",
    "full_bonus_eligible"
   ]
  },
  {
   "cell_type": "code",
   "execution_count": null,
   "id": "b7a66826",
   "metadata": {},
   "outputs": [],
   "source": [
    "# Calculating the bonus conversion rate for each condition\n",
    "\n",
    "max_bonus = 2.0\n",
    "\n",
    "bonus_calc_cols = [\"condition\", \"finalScore\"]\n",
    "\n",
    "bonus_rate = {}\n",
    "\n",
    "for condition in np.unique(full_bonus_eligible.condition):\n",
    "    bonus_rate[condition] = max_bonus / full_bonus_eligible.loc[full_bonus_eligible.condition == condition].finalScore.max()\n",
    "\n",
    "# stats_df_filtered = stats_df.loc[stats_df['numTrialsCompleted'] > 0]\n",
    "\n",
    "bonuses = []\n",
    "# Adding the bonus for each participant\n",
    "for idx, row in full_bonus_eligible.iterrows():\n",
    "    bonuses.append(bonus_rate[row['condition']] * row['finalScore'])\n",
    "\n",
    "full_bonus_eligible['bonus'] = bonuses\n",
    "full_bonus_eligible"
   ]
  },
  {
   "cell_type": "code",
   "execution_count": null,
   "id": "8a3b0d3d",
   "metadata": {},
   "outputs": [],
   "source": [
    "# Printing bonuses\n",
    "\n",
    "for idx, row in full_bonus_eligible.iterrows():\n",
    "    if(row['bonus'] > 0):\n",
    "        print('{0}, {1:0.2f}'.format(row['workerId'], row['bonus']))"
   ]
  },
  {
   "cell_type": "code",
   "execution_count": null,
   "id": "627a3766",
   "metadata": {},
   "outputs": [],
   "source": [
    "# Average bonus\n",
    "\n",
    "print(full_bonus_eligible.mean()['bonus'])\n",
    "print(full_bonus_eligible.std()['bonus'])"
   ]
  },
  {
   "cell_type": "markdown",
   "id": "d73fd8bf",
   "metadata": {},
   "source": [
    "# Creating CSV for MCL Toolbox"
   ]
  },
  {
   "cell_type": "markdown",
   "id": "aa626845",
   "metadata": {},
   "source": [
    "Converting participant data into a CSV format that is appropriate for reading by mcl_toolbox models"
   ]
  },
  {
   "cell_type": "code",
   "execution_count": null,
   "id": "cb4888de",
   "metadata": {
    "scrolled": true
   },
   "outputs": [],
   "source": [
    "s = \"pid,trial_index,action_time,actions,block,path,queries,reward,rt,condition,bonus,score,simulation_mode,state_rewards,time_elapsed,trialTime,trial_type\"\n",
    "\n",
    "for h in s.split(\",\"):\n",
    "    print(\"\\\"{}\\\",\".format(h))"
   ]
  },
  {
   "cell_type": "code",
   "execution_count": null,
   "id": "b39e98fb",
   "metadata": {},
   "outputs": [],
   "source": [
    "header_row = [\n",
    "    \"pid\",\n",
    "    \"trial_index\",\n",
    "    \"action_time\",\n",
    "    \"actions\",\n",
    "    \"block\",\n",
    "    \"path\",\n",
    "    \"queries\",\n",
    "    \"reward\",\n",
    "    \"rt\",\n",
    "    \"condition\",\n",
    "    \"bonus\",\n",
    "    \"score\",\n",
    "    \"simulation_mode\",\n",
    "    \"state_rewards\",\n",
    "    \"time_elapsed\",\n",
    "    \"trialTime\",\n",
    "    \"trial_type\",\n",
    "    \"reward_withheld\"\n",
    "]\n"
   ]
  },
  {
   "cell_type": "code",
   "execution_count": null,
   "id": "321bb722",
   "metadata": {
    "scrolled": true
   },
   "outputs": [],
   "source": [
    "scarce_complete = complete_data[complete_data.condition == 1]\n",
    "control_complete = complete_data[complete_data.condition == 0]\n",
    "\n",
    "\n",
    "control_csv_rows = [header_row]\n",
    "scarce_csv_rows = [header_row]\n",
    "\n",
    "# Create a CSV table with all the trials as rows\n",
    "for workerId in complete_data.workerId:\n",
    "    # Read data as was present in PostGRES output\n",
    "    # Part_data object created at very beginning of this notebook\n",
    "    participant = part_data[workerId]\n",
    "    trial_count = 1\n",
    "    click_cost = participant[\"condition\"] * 0.25 + (1 - participant[\"condition\"])\n",
    "    for idx, data_point in enumerate(participant[\"data\"]):\n",
    "        trialdata = data_point[\"trialdata\"]\n",
    "        if trialdata[\"trial_type\"] == \"mouselab-mdp\" and trialdata[\"trial_id\"].startswith(\"mdp_\"):\n",
    "            num_clicks = len(trialdata[\"queries\"][\"click\"][\"state\"][\"target\"])\n",
    "            new_row = [\n",
    "                workerId,\n",
    "                trial_count,\n",
    "                trialdata[\"actionTimes\"],\n",
    "                trialdata[\"actions\"],\n",
    "                \"begin\" if trial_count <= 10 else \"test\",\n",
    "                trialdata[\"path\"],\n",
    "                trialdata[\"queries\"],\n",
    "                trialdata[\"rewards\"],\n",
    "                trialdata[\"rt\"],\n",
    "                participant[\"condition\"],\n",
    "                0,\n",
    "                trialdata[\"score\"],\n",
    "                [None] * 3,\n",
    "                trialdata[\"stateRewards\"],\n",
    "                trialdata[\"time_elapsed\"],\n",
    "                trialdata[\"trialTime\"],\n",
    "                trialdata[\"trial_type\"],\n",
    "                trialdata[\"withholdReward\"]\n",
    "            ]\n",
    "            trial_count += 1\n",
    "            # print(click_cost, num_clicks, trialdata[\"score\"], new_row[11], new_row[-1])\n",
    "            if participant[\"condition\"] == 0:\n",
    "                control_csv_rows.append(new_row)\n",
    "            else:\n",
    "                scarce_csv_rows.append(new_row)\n",
    "    \n",
    "    "
   ]
  },
  {
   "cell_type": "code",
   "execution_count": null,
   "id": "2c02fcd1",
   "metadata": {},
   "outputs": [],
   "source": [
    "# Write to CSV file\n",
    "\n",
    "with open('../results/mouselab-mdp-final-scarce.csv', 'w', newline='') as csvfile:\n",
    "    writer = csv.writer(csvfile, delimiter=',')\n",
    "    for row in scarce_csv_rows:\n",
    "        writer.writerow(row)\n"
   ]
  },
  {
   "cell_type": "code",
   "execution_count": null,
   "id": "95d60cfd",
   "metadata": {},
   "outputs": [],
   "source": [
    "# Write to CSV file\n",
    "\n",
    "with open('../results/mouselab-mdp-final-control.csv', 'w', newline='') as csvfile:\n",
    "    writer = csv.writer(csvfile, delimiter=',')\n",
    "    for row in control_csv_rows:\n",
    "        writer.writerow(row)\n"
   ]
  },
  {
   "cell_type": "code",
   "execution_count": null,
   "id": "ab057077",
   "metadata": {},
   "outputs": [],
   "source": [
    "# Creating CSV for optimal strategy to infer sequences\n",
    "\n",
    "optimalpicklename = \"../results/1.0_clicks_high_increasing_.pickle\"\n",
    "\n",
    "with open(optimalpicklename, 'rb') as file:\n",
    "    optimal_clicks = pickle.load(file)\n",
    "    \n",
    "opt_csv_rows = [header_row]\n",
    "\n",
    "trial_count = 1\n",
    "\n",
    "for trial in optimal_clicks[\"optimal\"]:\n",
    "    trial_rewards = [trial[\"stateRewards\"][int(c)] for c in trial[\"clicks\"][:-1]]\n",
    "    new_row = [\n",
    "        \"dynamic_program\",\n",
    "        trial_count,\n",
    "        [],\n",
    "        [],\n",
    "        \"begin\" if trial_count <= 10 else \"test\",\n",
    "        [],\n",
    "        { \n",
    "            \"click\" : { \n",
    "                \"state\" : {\n",
    "                    \"target\" : trial[\"clicks\"][:-1],\n",
    "                    \"times\" : list(range(len(trial[\"clicks\"][:-1])))\n",
    "                }\n",
    "            }\n",
    "        },\n",
    "        trial_rewards,\n",
    "        [3] * len(trial[\"clicks\"][:-1]),\n",
    "        0,\n",
    "        0,\n",
    "        0,\n",
    "        [None] * 3,\n",
    "        trial[\"stateRewards\"],\n",
    "        None,\n",
    "        None,\n",
    "        \"mouselab-mdp\"\n",
    "\n",
    "    ]\n",
    "    trial_count += 1\n",
    "    opt_csv_rows.append(new_row)\n",
    "    if trial_count == 31: \n",
    "        break"
   ]
  },
  {
   "cell_type": "code",
   "execution_count": null,
   "id": "b6a6e3c5",
   "metadata": {},
   "outputs": [],
   "source": [
    "# Write to CSV file\n",
    "\n",
    "with open('../results/mouselab-mdp-final-dp.csv', 'w', newline='') as csvfile:\n",
    "    writer = csv.writer(csvfile, delimiter=',')\n",
    "    for row in opt_csv_rows:\n",
    "        writer.writerow(row)\n"
   ]
  },
  {
   "cell_type": "markdown",
   "id": "9d440dd7",
   "metadata": {},
   "source": [
    "## Feedback and Demographics"
   ]
  },
  {
   "cell_type": "code",
   "execution_count": null,
   "id": "6f540578",
   "metadata": {},
   "outputs": [],
   "source": [
    "len(complete_data)"
   ]
  },
  {
   "cell_type": "code",
   "execution_count": null,
   "id": "c0f0fd04",
   "metadata": {},
   "outputs": [],
   "source": [
    "# Feedback comments\n",
    "\n",
    "for part in part_stats_dicts:\n",
    "    printed = False\n",
    "    if len(part[\"feedback\"]) > 0:\n",
    "        print(\"Feedback: \" + part[\"feedback\"])\n",
    "        printed = True\n",
    "    if len(part[\"alreadyParticipated\"]) > 0:\n",
    "        print(\"Already participated: \" + part[\"alreadyParticipated\"])\n",
    "        printed = True\n",
    "    if len(part[\"comments\"]) > 0:\n",
    "        print(\"Comments: \" + part[\"comments\"])\n",
    "        printed = True\n",
    "    if printed:\n",
    "        print(\"\\n\")"
   ]
  },
  {
   "cell_type": "code",
   "execution_count": null,
   "id": "d4de1b06",
   "metadata": {},
   "outputs": [],
   "source": [
    "# Demographics:\n",
    "\n",
    "which_df = complete_data\n",
    "scarce_df = which_df.loc[which_df.condition == 1]\n",
    "control_df = which_df.loc[which_df.condition == 0]\n",
    "\n",
    "ages = {\n",
    "    \"all\" : which_df[\"age\"].astype(\"int\"),\n",
    "    \"control\" : control_df[\"age\"].astype(\"int\"),\n",
    "    \"scarce\" : scarce_df[\"age\"].astype(\"int\")\n",
    "}\n",
    "\n",
    "num_male = {\n",
    "    \n",
    "}\n",
    "num_female = {\n",
    "    \n",
    "}\n",
    "num_other = {\n",
    "    \n",
    "}\n",
    "gender_unique, gender_counts = np.unique(which_df.gender, return_counts=True)\n",
    "genders = np.asarray((gender_unique, gender_counts)).T\n",
    "num_male[\"all\"] = genders[np.where(genders[:,0] == \"male\")[0][0], 1]\n",
    "num_female[\"all\"] = genders[np.where(genders[:,0] == \"female\")[0][0], 1]\n",
    "num_other[\"all\"] = genders[np.where(genders[:,0] == \"other\")[0][0], 1]\n",
    "\n",
    "gender_unique, gender_counts = np.unique(scarce_df.gender, return_counts=True)\n",
    "genders = np.asarray((gender_unique, gender_counts)).T\n",
    "num_male[\"scarce\"] = genders[np.where(genders[:,0] == \"male\")[0][0], 1]\n",
    "num_female[\"scarce\"] = genders[np.where(genders[:,0] == \"female\")[0][0], 1]\n",
    "try:\n",
    "    num_other[\"scarce\"] = genders[np.where(genders[:,0] == \"other\")[0][0], 1]\n",
    "except:\n",
    "    num_other[\"scarce\"] = 0\n",
    "\n",
    "gender_unique, gender_counts = np.unique(control_df.gender, return_counts=True)\n",
    "genders = np.asarray((gender_unique, gender_counts)).T\n",
    "num_male[\"control\"] = genders[np.where(genders[:,0] == \"male\")[0][0], 1]\n",
    "num_female[\"control\"] = genders[np.where(genders[:,0] == \"female\")[0][0], 1]\n",
    "try:\n",
    "    num_other[\"control\"] = genders[np.where(genders[:,0] == \"other\")[0][0], 1]\n",
    "except:\n",
    "    num_other[\"control\"] = 0\n",
    "\n",
    "efforts = which_df[\"effort\"].astype(\"int\")\n",
    "colorblind_unique, colorblind_counts = np.unique(which_df.colorblind, return_counts=True)\n",
    "colorblinds = np.asarray((colorblind_unique, colorblind_counts)).T\n",
    "\n",
    "print(\"Age stats:\")\n",
    "print(\"\\tOverall:\")\n",
    "print(\"\\t\\tMean: {0:0.3f}\".format(ages[\"all\"].mean()))\n",
    "print(\"\\t\\tSD: {0:0.3f}\".format(ages[\"all\"].std()))\n",
    "print(\"\\t\\tMedian: {0:0.3f}\".format(ages[\"all\"].median()))\n",
    "print(\"\\t\\tMax: {0:0.3f}\".format(ages[\"all\"].max()))\n",
    "print(\"\\t\\tMin: {0:0.3f}\".format(ages[\"all\"].min()))\n",
    "print(\"\\tScarce:\")\n",
    "print(\"\\t\\tMean: {0:0.3f}\".format(ages[\"scarce\"].mean()))\n",
    "print(\"\\t\\tSD: {0:0.3f}\".format(ages[\"scarce\"].std()))\n",
    "print(\"\\t\\tMedian: {0:0.3f}\".format(ages[\"scarce\"].median()))\n",
    "print(\"\\tControl:\")\n",
    "print(\"\\t\\tMean: {0:0.3f}\".format(ages[\"control\"].mean()))\n",
    "print(\"\\t\\tSD: {0:0.3f}\".format(ages[\"control\"].std()))\n",
    "print(\"\\t\\tMedian: {0:0.3f}\".format(ages[\"control\"].median()))\n",
    "\n",
    "print(\"Gender stats:\")\n",
    "print(\"\\tOverall:\")\n",
    "print(\"\\t\\tMale: {0} ({1:0.2f}%)\".format(num_male[\"all\"], (100 * num_male[\"all\"] / len(which_df))))\n",
    "print(\"\\t\\tFemale: {0} ({1:0.2f}%)\".format(num_female[\"all\"], (100 * num_female[\"all\"] / len(which_df))))\n",
    "print(\"\\t\\tOther: {0} ({1:0.2f}%)\".format(num_other[\"all\"], (100 * num_other[\"all\"] / len(which_df))))\n",
    "print(\"\\tScarce:\")\n",
    "print(\"\\t\\tMale: {0} ({1:0.2f}%)\".format(num_male[\"scarce\"], (100 * num_male[\"scarce\"] / len(scarce_df))))\n",
    "print(\"\\t\\tFemale: {0} ({1:0.2f}%)\".format(num_female[\"scarce\"], (100 * num_female[\"scarce\"] / len(scarce_df))))\n",
    "print(\"\\t\\tOther: {0} ({1:0.2f}%)\".format(num_other[\"scarce\"], (100 * num_other[\"scarce\"] / len(scarce_df))))\n",
    "print(\"\\tControl:\")\n",
    "print(\"\\t\\tMale: {0} ({1:0.2f}%)\".format(num_male[\"control\"], (100 * num_male[\"control\"] / len(control_df))))\n",
    "print(\"\\t\\tFemale: {0} ({1:0.2f}%)\".format(num_female[\"control\"], (100 * num_female[\"control\"] / len(control_df))))\n",
    "print(\"\\t\\tOther: {0} ({1:0.2f}%)\".format(num_other[\"control\"], (100 * num_other[\"control\"] / len(control_df))))"
   ]
  },
  {
   "cell_type": "code",
   "execution_count": null,
   "id": "8a8e9c7f",
   "metadata": {},
   "outputs": [],
   "source": [
    "num_male = genders[np.where(genders[:,0] == \"male\")[0][0], 1]"
   ]
  },
  {
   "cell_type": "markdown",
   "id": "eb21085b",
   "metadata": {},
   "source": [
    "# Final Quiz Responses"
   ]
  },
  {
   "cell_type": "markdown",
   "id": "1ef23413",
   "metadata": {},
   "source": [
    "Analysis of responses to final quiz asking about the reward structure of the environment. Purpose of this analysis is to see how well participants were able to explicitly learn the environment structure."
   ]
  },
  {
   "cell_type": "code",
   "execution_count": null,
   "id": "d340c483",
   "metadata": {},
   "outputs": [],
   "source": [
    "correct_answers = {\n",
    "    \"Q0\": \"$-4 to $4\",\n",
    "    \"Q1\": \"$-8 to $8\",\n",
    "    \"Q2\": \"$-48 to $48\"\n",
    "}\n",
    "\n",
    "num_correct_s = []\n",
    "bonus_s = []\n",
    "\n",
    "num_correct_c = []\n",
    "bonus_c = []\n",
    "\n",
    "for idx, row in complete_data.loc[complete_data.condition == 1].iterrows():\n",
    "    part = [p for p in part_stats_dicts if p[\"workerId\"] == row[\"workerId\"]][0]\n",
    "    part_answers = part['final_quiz_responses']\n",
    "    part_correct_answers = sum([part_answers[key] == correct_answers[key] for key in correct_answers.keys()])\n",
    "    num_correct_s.append(part_correct_answers)\n",
    "    part_bonus = full_bonus_eligible.loc[full_bonus_eligible.workerId == row[\"workerId\"]].bonus.values[0]\n",
    "    bonus_s.append(part_bonus)\n",
    "\n",
    "for idx, row in complete_data.loc[complete_data.condition == 0].iterrows():\n",
    "    part = [p for p in part_stats_dicts if p[\"workerId\"] == row[\"workerId\"]][0]\n",
    "    part_answers = part['final_quiz_responses']\n",
    "    part_correct_answers = sum([part_answers[key] == correct_answers[key] for key in correct_answers.keys()])\n",
    "    num_correct_c.append(part_correct_answers)\n",
    "    part_bonus = full_bonus_eligible.loc[full_bonus_eligible.workerId == row[\"workerId\"]].bonus.values[0]\n",
    "    bonus_c.append(part_bonus)"
   ]
  },
  {
   "cell_type": "code",
   "execution_count": null,
   "id": "1a6232ae",
   "metadata": {},
   "outputs": [],
   "source": [
    "plt.figure(figsize=(10,4))\n",
    "plt.subplot(1,2,1)\n",
    "plt.scatter(num_correct_s, bonus_s)\n",
    "plt.xlabel(\"Number of correct answers\")\n",
    "plt.ylabel(\"Bonus\")\n",
    "plt.title(\"Scarce - Knowledge of Reward structure\")\n",
    "plt.subplot(1,2,2)\n",
    "plt.hist(num_correct_s)\n",
    "plt.xlabel(\"Number of correct answers\")\n",
    "plt.ylabel(\"Freq\")\n",
    "plt.title(\"Scarce - Distribution of env struct knowledge\")\n",
    "\n",
    "plt.figure(figsize=(10,4))\n",
    "plt.subplot(1,2,1)\n",
    "plt.scatter(num_correct_c, bonus_c)\n",
    "plt.xlabel(\"Number of correct answers\")\n",
    "plt.ylabel(\"Bonus\")\n",
    "plt.title(\"Control - Knowledge of Reward structure\")\n",
    "plt.subplot(1,2,2)\n",
    "plt.hist(num_correct_c)\n",
    "plt.xlabel(\"Number of correct answers\")\n",
    "plt.ylabel(\"Freq\")\n",
    "plt.title(\"Control - Distribution of env struct knowledge\")\n",
    "\n",
    "plt.show()"
   ]
  },
  {
   "cell_type": "code",
   "execution_count": null,
   "id": "ed312396",
   "metadata": {},
   "outputs": [],
   "source": []
  }
 ],
 "metadata": {
  "kernelspec": {
   "display_name": "Python 3 (ipykernel)",
   "language": "python",
   "name": "python3"
  },
  "language_info": {
   "codemirror_mode": {
    "name": "ipython",
    "version": 3
   },
   "file_extension": ".py",
   "mimetype": "text/x-python",
   "name": "python",
   "nbconvert_exporter": "python",
   "pygments_lexer": "ipython3",
   "version": "3.9.12"
  }
 },
 "nbformat": 4,
 "nbformat_minor": 5
}
